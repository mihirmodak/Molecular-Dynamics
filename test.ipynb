{
 "metadata": {
  "language_info": {
   "codemirror_mode": {
    "name": "ipython",
    "version": 3
   },
   "file_extension": ".py",
   "mimetype": "text/x-python",
   "name": "python",
   "nbconvert_exporter": "python",
   "pygments_lexer": "ipython3",
   "version": "3.9.5"
  },
  "orig_nbformat": 4,
  "kernelspec": {
   "name": "python3",
   "display_name": "Python 3.9.5 64-bit"
  },
  "interpreter": {
   "hash": "d11266fe9ecec1da5e61ebcc33d198b029f4069f6ffded2281a9eae3e5440979"
  }
 },
 "nbformat": 4,
 "nbformat_minor": 2,
 "cells": [
  {
   "cell_type": "code",
   "execution_count": 1,
   "metadata": {},
   "outputs": [],
   "source": [
    "import numpy as np\n",
    "from scipy.spatial.distance import pdist, squareform\n",
    "\n",
    "np.random.seed(0)"
   ]
  },
  {
   "source": [
    "## `pdist` and `squareform` demo"
   ],
   "cell_type": "markdown",
   "metadata": {}
  },
  {
   "cell_type": "code",
   "execution_count": 2,
   "metadata": {},
   "outputs": [],
   "source": [
    "pos1 = [(0,0),(0,1)]\n",
    "pos2 = [(0,0), (0,1), (0,2)]\n",
    "pos3 = [(0,0), (0,1), (0,2), (0,3)]"
   ]
  },
  {
   "cell_type": "code",
   "execution_count": 3,
   "metadata": {},
   "outputs": [
    {
     "output_type": "execute_result",
     "data": {
      "text/plain": [
       "array([1.])"
      ]
     },
     "metadata": {},
     "execution_count": 3
    }
   ],
   "source": [
    "pdist(pos1)"
   ]
  },
  {
   "cell_type": "code",
   "execution_count": 4,
   "metadata": {},
   "outputs": [
    {
     "output_type": "execute_result",
     "data": {
      "text/plain": [
       "array([1., 2., 1.])"
      ]
     },
     "metadata": {},
     "execution_count": 4
    }
   ],
   "source": [
    "pdist(pos2)"
   ]
  },
  {
   "cell_type": "code",
   "execution_count": 5,
   "metadata": {},
   "outputs": [
    {
     "output_type": "execute_result",
     "data": {
      "text/plain": [
       "array([1., 2., 3., 1., 2., 1.])"
      ]
     },
     "metadata": {},
     "execution_count": 5
    }
   ],
   "source": [
    "pdist(pos3)"
   ]
  },
  {
   "cell_type": "code",
   "execution_count": 6,
   "metadata": {},
   "outputs": [
    {
     "output_type": "execute_result",
     "data": {
      "text/plain": [
       "array([[0., 1.],\n",
       "       [1., 0.]])"
      ]
     },
     "metadata": {},
     "execution_count": 6
    }
   ],
   "source": [
    "squareform(pdist(pos1))"
   ]
  },
  {
   "cell_type": "code",
   "execution_count": 7,
   "metadata": {},
   "outputs": [
    {
     "output_type": "execute_result",
     "data": {
      "text/plain": [
       "array([[0., 1., 2.],\n",
       "       [1., 0., 1.],\n",
       "       [2., 1., 0.]])"
      ]
     },
     "metadata": {},
     "execution_count": 7
    }
   ],
   "source": [
    "squareform(pdist(pos2))"
   ]
  },
  {
   "cell_type": "code",
   "execution_count": 8,
   "metadata": {},
   "outputs": [
    {
     "output_type": "execute_result",
     "data": {
      "text/plain": [
       "array([[0., 1., 2., 3.],\n",
       "       [1., 0., 1., 2.],\n",
       "       [2., 1., 0., 1.],\n",
       "       [3., 2., 1., 0.]])"
      ]
     },
     "metadata": {},
     "execution_count": 8
    }
   ],
   "source": [
    "squareform(pdist(pos3))"
   ]
  },
  {
   "source": [
    "## `np.where` demo"
   ],
   "cell_type": "markdown",
   "metadata": {}
  },
  {
   "cell_type": "code",
   "execution_count": 9,
   "metadata": {},
   "outputs": [
    {
     "output_type": "execute_result",
     "data": {
      "text/plain": [
       "array([0, 1, 2, 3, 4, 5, 6, 7, 8, 9])"
      ]
     },
     "metadata": {},
     "execution_count": 9
    }
   ],
   "source": [
    "a = np.arange(10)\n",
    "a"
   ]
  },
  {
   "cell_type": "code",
   "execution_count": 10,
   "metadata": {},
   "outputs": [
    {
     "output_type": "execute_result",
     "data": {
      "text/plain": [
       "(array([7, 8, 9], dtype=int64),)"
      ]
     },
     "metadata": {},
     "execution_count": 10
    }
   ],
   "source": [
    "np.where(a > 6)"
   ]
  },
  {
   "cell_type": "code",
   "execution_count": 11,
   "metadata": {},
   "outputs": [
    {
     "output_type": "execute_result",
     "data": {
      "text/plain": [
       "array([0, 0, 0, 0, 0, 0, 0, 7, 8, 9])"
      ]
     },
     "metadata": {},
     "execution_count": 11
    }
   ],
   "source": [
    "np.where(a > 6, a, 0)"
   ]
  },
  {
   "cell_type": "code",
   "execution_count": 12,
   "metadata": {},
   "outputs": [
    {
     "output_type": "execute_result",
     "data": {
      "text/plain": [
       "array([[0., 1., 2., 3.],\n",
       "       [1., 0., 1., 2.],\n",
       "       [2., 1., 0., 1.],\n",
       "       [3., 2., 1., 0.]])"
      ]
     },
     "metadata": {},
     "execution_count": 12
    }
   ],
   "source": [
    "b = squareform(pdist(pos3))\r\n",
    "b"
   ]
  },
  {
   "cell_type": "code",
   "execution_count": 13,
   "metadata": {},
   "outputs": [
    {
     "output_type": "execute_result",
     "data": {
      "text/plain": [
       "(array([0, 0, 1, 1, 1, 2, 2, 2, 3, 3], dtype=int64),\n",
       " array([0, 1, 0, 1, 2, 1, 2, 3, 2, 3], dtype=int64))"
      ]
     },
     "metadata": {},
     "execution_count": 13
    }
   ],
   "source": [
    "np.where(b < 2)"
   ]
  },
  {
   "cell_type": "code",
   "execution_count": 14,
   "metadata": {},
   "outputs": [
    {
     "output_type": "execute_result",
     "data": {
      "text/plain": [
       "array([[0.0, 1.0, None, None],\n",
       "       [1.0, 0.0, 1.0, None],\n",
       "       [None, 1.0, 0.0, 1.0],\n",
       "       [None, None, 1.0, 0.0]], dtype=object)"
      ]
     },
     "metadata": {},
     "execution_count": 14
    }
   ],
   "source": [
    "np.where(b < 2, b, None)"
   ]
  },
  {
   "source": [
    "## Demo of numpy2d.py `MDSimulation.advance()`"
   ],
   "cell_type": "markdown",
   "metadata": {}
  },
  {
   "cell_type": "code",
   "execution_count": 15,
   "metadata": {},
   "outputs": [],
   "source": [
    "pos = np.random.rand(1000,2)"
   ]
  },
  {
   "cell_type": "code",
   "execution_count": 16,
   "metadata": {},
   "outputs": [
    {
     "output_type": "execute_result",
     "data": {
      "text/plain": [
       "array([[0.        , 0.1786471 , 0.14306129, ..., 0.15442332, 0.29151294,\n",
       "        0.23362597],\n",
       "       [0.1786471 , 0.        , 0.20562852, ..., 0.31012622, 0.13499124,\n",
       "        0.05956292],\n",
       "       [0.14306129, 0.20562852, 0.        , ..., 0.14567924, 0.34061286,\n",
       "        0.26317858],\n",
       "       ...,\n",
       "       [0.15442332, 0.31012622, 0.14567924, ..., 0.        , 0.43695575,\n",
       "        0.36939279],\n",
       "       [0.29151294, 0.13499124, 0.34061286, ..., 0.43695575, 0.        ,\n",
       "        0.08031155],\n",
       "       [0.23362597, 0.05956292, 0.26317858, ..., 0.36939279, 0.08031155,\n",
       "        0.        ]])"
      ]
     },
     "metadata": {},
     "execution_count": 16
    }
   ],
   "source": [
    "dist = squareform(pdist(pos))\n",
    "dist"
   ]
  },
  {
   "cell_type": "code",
   "execution_count": 17,
   "metadata": {},
   "outputs": [
    {
     "output_type": "execute_result",
     "data": {
      "text/plain": [
       "0.002"
      ]
     },
     "metadata": {},
     "execution_count": 17
    }
   ],
   "source": [
    "2* (2e-10*5.e6)"
   ]
  },
  {
   "cell_type": "code",
   "execution_count": 18,
   "metadata": {},
   "outputs": [
    {
     "output_type": "execute_result",
     "data": {
      "text/plain": [
       "(array([  0,   1,   2, ..., 997, 998, 999], dtype=int64),\n",
       " array([  0,   1,   2, ..., 997, 998, 999], dtype=int64))"
      ]
     },
     "metadata": {},
     "execution_count": 18
    }
   ],
   "source": [
    "x,y = np.where(dist < 2* (2e-10*5e6))\n",
    "x, y"
   ]
  },
  {
   "source": [
    "`np.where` returns 2 arrays, the first one contains the row coordinates, and the 2nd contains the column coordinates"
   ],
   "cell_type": "markdown",
   "metadata": {}
  },
  {
   "cell_type": "code",
   "execution_count": 19,
   "metadata": {},
   "outputs": [
    {
     "output_type": "execute_result",
     "data": {
      "text/plain": [
       "[(0, 0), (1, 1), (2, 2), (3, 3), (3, 71), (4, 4), (5, 5)]"
      ]
     },
     "metadata": {},
     "execution_count": 19
    }
   ],
   "source": [
    "result = zip(x,y)\n",
    "list(result)[0:7]"
   ]
  },
  {
   "source": [
    "We can see a ton of identical row-column coordinate pairs like (0,0), (1,1), or (273,273) because the values of dist on the diagonal of the matrix are all 0. This is because the distance of a particle from itself will always be 0.\n",
    "\n",
    "Here in this small subsection of the result, there is one coordinate (3, 71). This means that the 3rd row and 71st column, i.e. `a[3][71]` has a value less than 2r.\n",
    "\n",
    "The way squareform works, all collisions to the left of the diagonal will also exist on the right of the diagonal. This filtering by `x < y` only keeps elements above / to the right of the diagonal."
   ],
   "cell_type": "markdown",
   "metadata": {}
  },
  {
   "cell_type": "code",
   "execution_count": 20,
   "metadata": {},
   "outputs": [
    {
     "output_type": "execute_result",
     "data": {
      "text/plain": [
       "array([False, False, False, ..., False, False, False])"
      ]
     },
     "metadata": {},
     "execution_count": 20
    }
   ],
   "source": [
    "k = x < y\n",
    "k"
   ]
  },
  {
   "cell_type": "code",
   "execution_count": 21,
   "metadata": {},
   "outputs": [
    {
     "output_type": "execute_result",
     "data": {
      "text/plain": [
       "[(3, 71), (54, 504), (172, 823), (190, 380), (321, 666), (618, 667)]"
      ]
     },
     "metadata": {},
     "execution_count": 21
    }
   ],
   "source": [
    "list(zip(x[k], y[k]))"
   ]
  },
  {
   "source": [
    "From the code above, we can see that while `(3,71)` is kept through the filtering, and identical value does exist at `(71, 3)` that was removed"
   ],
   "cell_type": "markdown",
   "metadata": {}
  },
  {
   "cell_type": "code",
   "execution_count": 22,
   "metadata": {},
   "outputs": [],
   "source": [
    "# Number of particles.\n",
    "n = 1000\n",
    "# Scaling factor for distance, m-1. The box dimension is therefore 1/rscale.\n",
    "rscale = 5.e6\n",
    "# Use the van der Waals radius of Ar, about 0.2 nm.\n",
    "r = 2e-10 * rscale\n",
    "# Scale time by this factor, in s-1.\n",
    "tscale = 1e9    # i.e. time will be measured in nanoseconds.\n",
    "# Take the mean speed to be the root-mean-square velocity of Ar at 300 K.\n",
    "sbar = 353 * rscale / tscale\n",
    "# Time step in scaled time units.\n",
    "FPS = 30\n",
    "dt = 1/FPS\n",
    "# Particle masses, scaled by some factor we're not using yet.\n",
    "m = 1\n",
    "\n",
    "# Initialize the particles' positions randomly.\n",
    "# pos = np.random.random((n, 2))\n",
    "# Initialize the particles velocities with random orientations and random\n",
    "# magnitudes  around the mean speed, sbar.\n",
    "theta = np.random.random(n) * 2 * np.pi\n",
    "s0 = sbar * np.random.random(n)\n",
    "vel = (s0 * np.array((np.cos(theta), np.sin(theta)))).T"
   ]
  },
  {
   "cell_type": "code",
   "execution_count": 28,
   "metadata": {},
   "outputs": [
    {
     "output_type": "stream",
     "name": "stdout",
     "text": [
      "[ 0.00172229 -0.00015035] [0.96034577 1.61528445]\n2.9888754512477223e-06 0.001411125216226672\n[-0.00133198 -0.00092668] [-1.04874552 -1.04098726]\n2.632913725970005e-06 0.002361574489716227\n[ 0.00084272 -0.00103637] [0.34674391 1.48346203]\n1.7842425663202045e-06 -0.0012452086368285441\n[-0.00105482 -0.00127971] [-0.09059141 -0.84380713]\n2.7503209380614794e-06 0.0011753895525026346\n[ 0.00098136 -0.00064684] [0.7691553  0.78311605]\n1.3814712316055442e-06 0.0002482649248253647\n[-0.00167429  0.00080862] [ 1.35924558 -1.40770707]\n3.45712633890071e-06 -0.0034140776920543276\n"
     ]
    }
   ],
   "source": [
    "for i,j in zip(x[k], y[k]):\n",
    "    pos_i, vel_i = pos[i], vel[i]\n",
    "    pos_j, vel_j = pos[j], vel[j]\n",
    "    rel_pos, rel_vel = pos_i - pos_j, vel_i - vel_j\n",
    "    print(rel_pos, rel_vel)\n",
    "\n",
    "    r_rel = rel_pos @ rel_pos\n",
    "    v_rel = rel_vel @ rel_pos\n",
    "\n",
    "    print(r_rel, v_rel)"
   ]
  }
 ]
}