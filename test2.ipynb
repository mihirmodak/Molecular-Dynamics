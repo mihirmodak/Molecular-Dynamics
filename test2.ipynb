{
 "metadata": {
  "language_info": {
   "codemirror_mode": {
    "name": "ipython",
    "version": 3
   },
   "file_extension": ".py",
   "mimetype": "text/x-python",
   "name": "python",
   "nbconvert_exporter": "python",
   "pygments_lexer": "ipython3",
   "version": "3.9.5"
  },
  "orig_nbformat": 4,
  "kernelspec": {
   "name": "python3",
   "display_name": "Python 3.9.5 64-bit"
  },
  "interpreter": {
   "hash": "d11266fe9ecec1da5e61ebcc33d198b029f4069f6ffded2281a9eae3e5440979"
  }
 },
 "nbformat": 4,
 "nbformat_minor": 2,
 "cells": [
  {
   "cell_type": "code",
   "execution_count": 2,
   "metadata": {},
   "outputs": [],
   "source": [
    "import numpy as np\n",
    "from scipy.spatial.distance import pdist, squareform"
   ]
  },
  {
   "cell_type": "code",
   "execution_count": 2,
   "metadata": {},
   "outputs": [],
   "source": [
    "from Objects import Matrix"
   ]
  },
  {
   "cell_type": "code",
   "execution_count": 13,
   "metadata": {},
   "outputs": [],
   "source": [
    "n = 1000\n",
    "rscale = 5.e6\n",
    "r = 2e-10 * rscale\n",
    "tscale = 1e9\n",
    "sbar = 353 * rscale / tscale\n",
    "pos = np.random.random((n, 2))\n",
    "theta = np.random.random(n) * 2 * np.pi\n",
    "s0 = sbar * np.random.random(n)\n",
    "vel = (s0 * np.array((np.cos(theta), np.sin(theta)))).T"
   ]
  },
  {
   "cell_type": "code",
   "execution_count": 15,
   "metadata": {},
   "outputs": [
    {
     "output_type": "execute_result",
     "data": {
      "text/plain": [
       "21"
      ]
     },
     "metadata": {},
     "execution_count": 15
    }
   ],
   "source": [
    "A = np.array([1,2])\n",
    "B = np.array([1,10])\n",
    "np.matmul(A,B)"
   ]
  }
 ]
}